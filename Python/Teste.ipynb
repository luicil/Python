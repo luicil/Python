{
 "cells": [
  {
   "cell_type": "code",
   "execution_count": null,
   "id": "35bf8b08-6940-4dcc-b164-230aa9cfd3a0",
   "metadata": {},
   "outputs": [],
   "source": [
    "import pandas as pd\n",
    "import seaborn as srn\n",
    "import statistics  as sts"
   ]
  },
  {
   "cell_type": "code",
   "execution_count": null,
   "id": "cf92c2b8-909d-495f-9b68-307b4ccc6f6c",
   "metadata": {},
   "outputs": [],
   "source": [
    "#importar dados\n",
    "dataset = pd.read_csv(\"Churn.csv\", sep=\";\")"
   ]
  },
  {
   "cell_type": "code",
   "execution_count": null,
   "id": "4ddf504d-b1db-4081-a5f3-bf65e7999b1d",
   "metadata": {},
   "outputs": [],
   "source": [
    "#primeiro problema é dar nomes as colunas\n",
    "dataset.columns = [\"Id\",\"Score\",\"Estado\",\"Genero\",\"Idade\",\"Patrimonio\",\"Saldo\",\"Produtos\",\"TemCartCredito\",\n",
    "                    \"Ativo\",\"Salario\",\"Saiu\"]"
   ]
  },
  {
   "cell_type": "code",
   "execution_count": null,
   "id": "674b854a-62e7-4e38-8b0d-3aa3b9076f9b",
   "metadata": {
    "tags": []
   },
   "outputs": [],
   "source": [
    "#preenche NAs com Masculino (moda)\n",
    "\n",
    "generos = dataset[\"Genero\"]\n",
    "#generos"
   ]
  },
  {
   "cell_type": "code",
   "execution_count": null,
   "id": "4da90f67-0a70-4fb3-8df8-8ed014fae4b8",
   "metadata": {
    "tags": []
   },
   "outputs": [],
   "source": [
    "modaGenero = sts.mode(generos)\n",
    "#modaGenero"
   ]
  },
  {
   "cell_type": "code",
   "execution_count": null,
   "id": "29572fff-1dd8-4080-b6f3-9ac6219fd3da",
   "metadata": {
    "tags": []
   },
   "outputs": [],
   "source": [
    "#dataset['Genero'].fillna('Masculino', inplace=True)\n",
    "dataset['Genero'].fillna(modaGenero, inplace=True)"
   ]
  },
  {
   "cell_type": "code",
   "execution_count": null,
   "id": "60e6cd9b-7835-44f3-9d6b-6618fa74d01a",
   "metadata": {},
   "outputs": [],
   "source": [
    "#padroniza de acordo com o dominio\n",
    "dataset.loc[dataset['Genero'] ==  'M', 'Genero'] = \"Masculino\"\n",
    "dataset.loc[dataset['Genero'].isin( ['Fem','F']), 'Genero'] = \"Feminino\""
   ]
  },
  {
   "cell_type": "code",
   "execution_count": null,
   "id": "e29002f7-44c9-466b-9ec4-5bc76784eeae",
   "metadata": {},
   "outputs": [],
   "source": [
    "estados = dataset['Estado']\n",
    "#estados"
   ]
  },
  {
   "cell_type": "code",
   "execution_count": null,
   "id": "82747a14-f709-4d8f-af50-a464bf9e562a",
   "metadata": {},
   "outputs": [],
   "source": [
    "modaEstado = sts.mode(estados)\n",
    "#modaEstado"
   ]
  },
  {
   "cell_type": "code",
   "execution_count": null,
   "id": "d3eeeca2-7f42-4549-8760-025f5be06e13",
   "metadata": {},
   "outputs": [],
   "source": [
    "#dataset.loc[dataset['Estado'].isin( ['RP','TD']), 'Estado'] = \"RS\"\n",
    "dataset.loc[dataset['Estado'].isin( ['RP','TD']), 'Estado'] = modaEstado\n",
    "agrupado = dataset.groupby(['Estado','Genero']).size().reset_index(name='Total')\n",
    "#visualiza o resultado\n",
    "agrupado"
   ]
  },
  {
   "cell_type": "code",
   "execution_count": null,
   "id": "5055c179-d781-486d-b1c2-335419033b3f",
   "metadata": {},
   "outputs": [],
   "source": []
  }
 ],
 "metadata": {
  "kernelspec": {
   "display_name": "Python 3",
   "language": "python",
   "name": "python3"
  },
  "language_info": {
   "codemirror_mode": {
    "name": "ipython",
    "version": 3
   },
   "file_extension": ".py",
   "mimetype": "text/x-python",
   "name": "python",
   "nbconvert_exporter": "python",
   "pygments_lexer": "ipython3",
   "version": "3.8.8"
  }
 },
 "nbformat": 4,
 "nbformat_minor": 5
}
